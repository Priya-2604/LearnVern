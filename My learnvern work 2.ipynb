{
 "cells": [
  {
   "cell_type": "code",
   "execution_count": 1,
   "id": "c5411403",
   "metadata": {},
   "outputs": [],
   "source": [
    "# CONTROL STATEMENTS AND CONDITIONS IN PYTHON:\n",
    "\n",
    "    "
   ]
  },
  {
   "cell_type": "markdown",
   "id": "a56e3247",
   "metadata": {},
   "source": [
    "1. Simple If"
   ]
  },
  {
   "cell_type": "code",
   "execution_count": 3,
   "id": "0b26cd19",
   "metadata": {},
   "outputs": [
    {
     "name": "stdout",
     "output_type": "stream",
     "text": [
      "Value of variable is 10\n",
      "Bye\n"
     ]
    }
   ],
   "source": [
    "var=10\n",
    "if(var==10):\n",
    "    print(\"Value of variable is 10\")\n",
    "print(\"Bye\")    "
   ]
  },
  {
   "cell_type": "code",
   "execution_count": 5,
   "id": "8df51443",
   "metadata": {},
   "outputs": [
    {
     "name": "stdout",
     "output_type": "stream",
     "text": [
      "Bye\n"
     ]
    }
   ],
   "source": [
    "a=25\n",
    "if(a>=30):\n",
    "    print(\"Value of variable is 25\")\n",
    "print(\"Bye\")    "
   ]
  },
  {
   "cell_type": "markdown",
   "id": "fe2796c6",
   "metadata": {},
   "source": [
    "2. If_Else"
   ]
  },
  {
   "cell_type": "code",
   "execution_count": 9,
   "id": "da4d169b",
   "metadata": {},
   "outputs": [
    {
     "name": "stdout",
     "output_type": "stream",
     "text": [
      "Enter the value of A:5\n",
      "Enter the value og B:2\n",
      "A is greater\n"
     ]
    }
   ],
   "source": [
    "a=int(input(\"Enter the value of A:\"))\n",
    "b=int(input(\"Enter the value og B:\"))\n",
    "if a<b:\n",
    "    print(\"B is greater\")\n",
    "else:\n",
    "    print(\"A is greater\")"
   ]
  },
  {
   "cell_type": "code",
   "execution_count": 11,
   "id": "e4b8bee5",
   "metadata": {},
   "outputs": [
    {
     "name": "stdout",
     "output_type": "stream",
     "text": [
      "y is greater\n"
     ]
    }
   ],
   "source": [
    "x=25\n",
    "y=30\n",
    "if x<y:\n",
    "    print(\"y is greater\")\n",
    "else:\n",
    "    print(\"x is greater \")\n",
    "    "
   ]
  },
  {
   "cell_type": "markdown",
   "id": "44ae90b3",
   "metadata": {},
   "source": [
    "3. If_Else_ladder"
   ]
  },
  {
   "cell_type": "code",
   "execution_count": 15,
   "id": "432c7e09",
   "metadata": {},
   "outputs": [
    {
     "name": "stdout",
     "output_type": "stream",
     "text": [
      "Enter your percentage:99\n",
      "Dist\n"
     ]
    }
   ],
   "source": [
    "# 1) Percentage greater than 70 == Dist\n",
    "# 2) Percentage greater or equal to 65 and less than 70 == 1st class\n",
    "# 3) Percentage greater or equal to 60 and less than 65 == 2nd class\n",
    "# 4) Percentage greater or equal to 55 and less than 60 == 3rd class\n",
    "# 5) Percentage less than 55 == Fail.\n",
    "\n",
    "\n",
    "p= int(input(\"Enter your percentage:\"))\n",
    "\n",
    "if p>70:\n",
    "    print(\"Dist\")\n",
    "elif p>=65 and p<70:\n",
    "    print(\"1st class\")\n",
    "elif p>=60 and p<65:  \n",
    "    print(\"2nd class\")\n",
    "elif p>=55 and p<60:\n",
    "    print(\"3rd class\")\n",
    "else:\n",
    "    print(\"Fail\")"
   ]
  },
  {
   "cell_type": "markdown",
   "id": "c259e7c7",
   "metadata": {},
   "source": [
    "4. Nested_If"
   ]
  },
  {
   "cell_type": "code",
   "execution_count": 20,
   "id": "d76f5b97",
   "metadata": {},
   "outputs": [
    {
     "name": "stdout",
     "output_type": "stream",
     "text": [
      "Enter your age:88\n",
      "Enter your weight:65\n",
      "Blood Donate\n"
     ]
    }
   ],
   "source": [
    "# 1) age>=18\n",
    "# 2) weight>=50\n",
    "# 3) If both age and weight match with certeria then the user can donate the blood\n",
    "# 4) if age is less than 18 show one msg under age\n",
    "# 5) if weight is less than 50 show one msg under weight\n",
    "# 6) if age doesnot match then it should not ask for weight\n",
    "\n",
    "age=int(input(\"Enter your age:\"))\n",
    "\n",
    "if age>=18:\n",
    "    weight=int(input(\"Enter your weight:\"))\n",
    "\n",
    "    if weight>=50:\n",
    "        print(\"Blood Donate\")\n",
    "    else: \n",
    "        print(\"Under weight\")\n",
    "else:\n",
    "    print(\"Under age\")"
   ]
  },
  {
   "cell_type": "markdown",
   "id": "0417f709",
   "metadata": {},
   "source": [
    "5. While loop"
   ]
  },
  {
   "cell_type": "code",
   "execution_count": 2,
   "id": "cc741b0a",
   "metadata": {},
   "outputs": [
    {
     "name": "stdout",
     "output_type": "stream",
     "text": [
      "Enter N:5\n",
      "Sum: 5\n",
      "Sum: 9\n",
      "Sum: 12\n",
      "Sum: 14\n",
      "Sum: 15\n",
      "Bye\n"
     ]
    }
   ],
   "source": [
    "# 5,9,12,14,15\n",
    "sum = 0\n",
    "n=int(input(\"Enter N:\"))\n",
    "while n>0:\n",
    "    sum = sum+n\n",
    "    n-=1\n",
    "    print(\"Sum:\",sum)\n",
    "print(\"Bye\")    \n",
    "    "
   ]
  },
  {
   "cell_type": "markdown",
   "id": "36ad6592",
   "metadata": {},
   "source": [
    "6. While loop with else part"
   ]
  },
  {
   "cell_type": "code",
   "execution_count": 4,
   "id": "baea4acc",
   "metadata": {},
   "outputs": [
    {
     "name": "stdout",
     "output_type": "stream",
     "text": [
      "Enter N:5\n",
      "Sum: 5\n",
      "Sum: 9\n",
      "Sum: 12\n",
      "Sum: 14\n",
      "Sum: 15\n",
      "Loop error\n",
      "Bye\n"
     ]
    }
   ],
   "source": [
    "# 5,9,12,14,15\n",
    "sum = 0\n",
    "n=int(input(\"Enter N:\"))\n",
    "while n>0:\n",
    "    sum = sum+n\n",
    "    n-=1\n",
    "    print(\"Sum:\",sum)\n",
    "else:\n",
    "    print(\"Loop error\")\n",
    "print(\"Bye\")   "
   ]
  },
  {
   "cell_type": "markdown",
   "id": "80eb3392",
   "metadata": {},
   "source": [
    "7. Simple for loop"
   ]
  },
  {
   "cell_type": "code",
   "execution_count": 11,
   "id": "9882b71b",
   "metadata": {},
   "outputs": [
    {
     "name": "stdout",
     "output_type": "stream",
     "text": [
      "priya\n",
      "gaurav\n",
      "swara\n",
      "vedu\n"
     ]
    }
   ],
   "source": [
    "# Iterators(for one by one print)\n",
    "word=['priya','gaurav','swara','vedu']\n",
    "for i in word:\n",
    "    print(i)"
   ]
  },
  {
   "cell_type": "code",
   "execution_count": 13,
   "id": "2430e761",
   "metadata": {},
   "outputs": [
    {
     "name": "stdout",
     "output_type": "stream",
     "text": [
      "priya = 5\n",
      "gaurav = 6\n",
      "swara = 5\n",
      "vedu = 4\n"
     ]
    }
   ],
   "source": [
    "# Iterators(for one by one print)\n",
    "word=['priya','gaurav','swara','vedu']\n",
    "for i in word:\n",
    "    print(i,\"=\",len(i)) # to define length of word use predefind len function."
   ]
  },
  {
   "cell_type": "markdown",
   "id": "8e8016ef",
   "metadata": {},
   "source": [
    "8. Nested For Loop"
   ]
  },
  {
   "cell_type": "code",
   "execution_count": 23,
   "id": "a84e7eca",
   "metadata": {},
   "outputs": [
    {
     "name": "stdout",
     "output_type": "stream",
     "text": [
      "*\n",
      "**\n",
      "***\n",
      "****\n",
      "*****\n"
     ]
    }
   ],
   "source": [
    "# *\n",
    "# **\n",
    "# ***\n",
    "# ****\n",
    "# *****\n",
    "\n",
    "#range(start point,end point,step(jump)) # like syntax\n",
    "for i in range(1,6):\n",
    "    for j in range(i):\n",
    "        print(\"*\",end=\"\")\n",
    "    print()\n",
    "     \n",
    "    "
   ]
  },
  {
   "cell_type": "code",
   "execution_count": 28,
   "id": "bce479bb",
   "metadata": {},
   "outputs": [
    {
     "name": "stdout",
     "output_type": "stream",
     "text": [
      "*****\n",
      "****\n",
      "***\n",
      "**\n",
      "*\n"
     ]
    }
   ],
   "source": [
    "for i in range(5,0,-1):\n",
    "    for j in range(i):\n",
    "        print(\"*\",end=\"\")\n",
    "    print()\n",
    "     "
   ]
  },
  {
   "cell_type": "markdown",
   "id": "19c775b7",
   "metadata": {},
   "source": [
    "9. Break Statement"
   ]
  },
  {
   "cell_type": "code",
   "execution_count": 35,
   "id": "dfe1a899",
   "metadata": {},
   "outputs": [
    {
     "name": "stdout",
     "output_type": "stream",
     "text": [
      "Letter: P\n",
      "Letter: y\n",
      "Letter: t\n",
      "Letter: h\n",
      "Bye\n"
     ]
    }
   ],
   "source": [
    "for letter in 'Python':\n",
    "    if letter == 'o':\n",
    "        break\n",
    "    print(\"Letter:\",letter)\n",
    "print(\"Bye\")   "
   ]
  },
  {
   "cell_type": "markdown",
   "id": "a468ce00",
   "metadata": {},
   "source": [
    "10. Continue Statement"
   ]
  },
  {
   "cell_type": "code",
   "execution_count": 37,
   "id": "92a56a27",
   "metadata": {},
   "outputs": [
    {
     "name": "stdout",
     "output_type": "stream",
     "text": [
      "Letter: P\n",
      "Letter: y\n",
      "Letter: t\n",
      "Letter: o\n",
      "Letter: n\n",
      "Bye\n"
     ]
    }
   ],
   "source": [
    "for letter in 'Python':\n",
    "    if letter == 'h':\n",
    "        continue\n",
    "    print(\"Letter:\",letter)\n",
    "print(\"Bye\")    "
   ]
  },
  {
   "cell_type": "markdown",
   "id": "c1b022e7",
   "metadata": {},
   "source": [
    "11. Pass Statement"
   ]
  },
  {
   "cell_type": "code",
   "execution_count": 40,
   "id": "a36d5a42",
   "metadata": {},
   "outputs": [
    {
     "name": "stdout",
     "output_type": "stream",
     "text": [
      "Lette: P\n",
      "Lette: y\n",
      "Lette: t\n",
      "pass block\n",
      "Lette: h\n",
      "Lette: o\n",
      "Lette: n\n",
      "Bye\n"
     ]
    }
   ],
   "source": [
    "for letter in 'Python':\n",
    "    if letter == 'h':\n",
    "        pass\n",
    "        print(\"pass block\")\n",
    "    print(\"Lette:\",letter) \n",
    "print(\"Bye\")    "
   ]
  },
  {
   "cell_type": "markdown",
   "id": "c310d7f7",
   "metadata": {},
   "source": [
    "12. Multiline String"
   ]
  },
  {
   "cell_type": "code",
   "execution_count": 44,
   "id": "313133b5",
   "metadata": {},
   "outputs": [
    {
     "name": "stdout",
     "output_type": "stream",
     "text": [
      "I like to do programming,\n",
      "Its a interesting language,\n",
      "Its use in Artificial Intelligence\n"
     ]
    }
   ],
   "source": [
    "a=\"\"\"I like to do programming,\n",
    "Its a interesting language,\n",
    "Its use in Artificial Intelligence\"\"\"\n",
    "print(a)"
   ]
  },
  {
   "cell_type": "markdown",
   "id": "445478fa",
   "metadata": {},
   "source": [
    "13. Update string"
   ]
  },
  {
   "cell_type": "code",
   "execution_count": 46,
   "id": "e0fa789f",
   "metadata": {},
   "outputs": [
    {
     "name": "stdout",
     "output_type": "stream",
     "text": [
      "Hello World\n",
      "Update string: Hello Python\n"
     ]
    }
   ],
   "source": [
    "a= \"Hello World\"\n",
    "print(a)\n",
    "print(\"Update string:\",a[:6]+\"Python\")"
   ]
  },
  {
   "cell_type": "markdown",
   "id": "90f75b77",
   "metadata": {},
   "source": [
    "14. String Slicing"
   ]
  },
  {
   "cell_type": "code",
   "execution_count": 52,
   "id": "84a79b6b",
   "metadata": {},
   "outputs": [
    {
     "name": "stdout",
     "output_type": "stream",
     "text": [
      "Index 1: e\n",
      "Index between 1 to 6: ello \n",
      "Index till 6: hello P\n",
      "last value: a\n"
     ]
    }
   ],
   "source": [
    "a= \"hello Priya\"\n",
    "\n",
    "# Access the value of index 1\n",
    "print(\"Index 1:\",a[1])\n",
    "\n",
    "# Access the value between index 1 to 6\n",
    "print(\"Index between 1 to 6:\",a[1:6])\n",
    "\n",
    "# Access the value till index 6\n",
    "print(\"Index till 6:\",a[:7])\n",
    "\n",
    "# Access the last value from string\n",
    "print(\"last value:\",a[-1])\n"
   ]
  },
  {
   "cell_type": "markdown",
   "id": "5f5c7d89",
   "metadata": {},
   "source": [
    "15. String In-Bulit Methods"
   ]
  },
  {
   "cell_type": "code",
   "execution_count": 60,
   "id": "51720fe3",
   "metadata": {},
   "outputs": [
    {
     "name": "stdout",
     "output_type": "stream",
     "text": [
      "Hello priya\n",
      "hello python\n"
     ]
    }
   ],
   "source": [
    "# Capitalize(): This method converts the first character in string(Capital)\n",
    "\n",
    "a=\"hello Priya\"\n",
    "x=a.capitalize()\n",
    "print(x)\n",
    "\n",
    "# Casefold(): This method convert all capital letters into small\n",
    "a= \"Hello Python\"\n",
    "x=a.casefold()\n",
    "print(x)\n"
   ]
  },
  {
   "cell_type": "code",
   "execution_count": 65,
   "id": "94e629ea",
   "metadata": {},
   "outputs": [
    {
     "name": "stdout",
     "output_type": "stream",
     "text": [
      "Python\n",
      "      Python      \n"
     ]
    }
   ],
   "source": [
    "# center(): This is use to bring your string into center\n",
    "a=\"Python\"\n",
    "print(a)\n",
    "\n",
    "x=a.center(18) # Update using center method\n",
    "print(x)"
   ]
  },
  {
   "cell_type": "code",
   "execution_count": 67,
   "id": "aaecf09c",
   "metadata": {},
   "outputs": [
    {
     "name": "stdout",
     "output_type": "stream",
     "text": [
      "2\n"
     ]
    }
   ],
   "source": [
    "# count(): This methos is used to count teh repeated word in string\n",
    "\n",
    "a=\"I love Python,Python is a smart language\"\n",
    "x=a.count(\"Python\")\n",
    "print(x)"
   ]
  },
  {
   "cell_type": "markdown",
   "id": "1d4b3cbc",
   "metadata": {},
   "source": [
    "16. How to compare strings"
   ]
  },
  {
   "cell_type": "code",
   "execution_count": 71,
   "id": "9e8ba797",
   "metadata": {},
   "outputs": [
    {
     "name": "stdout",
     "output_type": "stream",
     "text": [
      "True\n",
      "False\n"
     ]
    }
   ],
   "source": [
    "str1 = \"learnvern\"\n",
    "str2 = \"learnvern\"\n",
    "result = str1== str2\n",
    "print(result)\n",
    "\n",
    "str1 = \"learnvern\"\n",
    "str2 = \"Welcome\"\n",
    "result = str1== str2\n",
    "print(result)\n"
   ]
  },
  {
   "cell_type": "code",
   "execution_count": 72,
   "id": "5c3345a7",
   "metadata": {},
   "outputs": [
    {
     "name": "stdout",
     "output_type": "stream",
     "text": [
      "True\n"
     ]
    }
   ],
   "source": [
    "str1=\"A\"\n",
    "str2=\"B\"\n",
    "str3=\"D\"\n",
    "result=str2<str3  # like english alphabet (A-Z)\n",
    "print(result)"
   ]
  },
  {
   "cell_type": "markdown",
   "id": "7e958be7",
   "metadata": {},
   "source": [
    "ASSIGNMENT NO. 2"
   ]
  },
  {
   "cell_type": "code",
   "execution_count": 78,
   "id": "ee764f24",
   "metadata": {},
   "outputs": [
    {
     "name": "stdout",
     "output_type": "stream",
     "text": [
      "Enter A:4563\n",
      "A is Odd\n"
     ]
    }
   ],
   "source": [
    "# 1] Write a program to find whether a given number(accept from the user) is even or odd and print the message to the user accordingly.\n",
    "\n",
    "a=int(input(\"Enter A:\"))\n",
    "if a%2==0:\n",
    "    print(\"A is Even\")\n",
    "else:\n",
    "    print(\"A is Odd\")"
   ]
  },
  {
   "cell_type": "code",
   "execution_count": 85,
   "id": "d7f7a18a",
   "metadata": {},
   "outputs": [
    {
     "name": "stdout",
     "output_type": "stream",
     "text": [
      "Enter A:66\n",
      "A is Greater then 60\n"
     ]
    }
   ],
   "source": [
    "# 2] Write a program to find whether a given number(accept from the user) is greater then or less then and print the message to the user accordingly.\n",
    "\n",
    "a=int(input(\"Enter A:\"))\n",
    "if a<=100 and a>75:\n",
    "    print(\"A is Greater then 75\")\n",
    "elif a<=75 and a>60:\n",
    "    print(\"A is Greater then 60\")\n",
    "elif a<=60 and a>0:\n",
    "    print(\"A is Greater than 0\")\n",
    "else:\n",
    "    print(\"A is less than 0\")\n",
    "\n"
   ]
  },
  {
   "cell_type": "code",
   "execution_count": 96,
   "id": "487b74d8",
   "metadata": {},
   "outputs": [
    {
     "name": "stdout",
     "output_type": "stream",
     "text": [
      "Enter your percentage:58\n",
      "C grade\n"
     ]
    }
   ],
   "source": [
    "# 3] Write a program to find out the grade of given percentage value(accept from the user) and print the message accordingly given criteria:\n",
    "# Greater then 70% print A grade message to the user.\n",
    "# Greater then 65% and less then 70% print B+ grade message to the user.\n",
    "# Greater then 60% and less then 65% print B grade message to the user.\n",
    "# Greater then 55% and less then 60% print C grade message to the user.\n",
    "# Less then 55% print Fail message to the user.\n",
    "\n",
    "a=int(input(\"Enter your percentage:\"))\n",
    "if a>=70:\n",
    "    print(\"A grade\")\n",
    "elif a<=65 and a>70: \n",
    "    print(\"B+ grade\")\n",
    "elif a<=65 and a>60:\n",
    "    print(\"B grade\")\n",
    "elif a<=60 and a>55:\n",
    "    print(\"C grade\")\n",
    "elif a<=55:\n",
    "    print(\"Fail\")"
   ]
  },
  {
   "cell_type": "code",
   "execution_count": 102,
   "id": "e3ab0837",
   "metadata": {},
   "outputs": [
    {
     "name": "stdout",
     "output_type": "stream",
     "text": [
      "1\n",
      "2\n",
      "3\n",
      "4\n",
      "5\n",
      "6\n",
      "7\n",
      "8\n",
      "9\n",
      "10\n"
     ]
    }
   ],
   "source": [
    "# 4] Write a program to generate 1 to 10 value using the loop.\n",
    "\n",
    "for i in range(0,10):\n",
    "    i=i+1\n",
    "    print(i)"
   ]
  },
  {
   "cell_type": "code",
   "execution_count": 104,
   "id": "50db64da",
   "metadata": {},
   "outputs": [
    {
     "name": "stdout",
     "output_type": "stream",
     "text": [
      "10\n",
      "9\n",
      "8\n",
      "7\n",
      "6\n",
      "5\n",
      "4\n",
      "3\n",
      "2\n",
      "1\n"
     ]
    }
   ],
   "source": [
    "# 5] Write a program to generate 10 to 1 value using for loop.\n",
    "\n",
    "for i in range(11,1,-1):\n",
    "    i=i-1\n",
    "    print(i)"
   ]
  },
  {
   "cell_type": "code",
   "execution_count": 109,
   "id": "02b14531",
   "metadata": {},
   "outputs": [
    {
     "name": "stdout",
     "output_type": "stream",
     "text": [
      "*\n",
      "**\n",
      "***\n",
      "****\n",
      "*****\n"
     ]
    }
   ],
   "source": [
    "# 6] Write a program to print following pattern:\n",
    "# *\n",
    "# **\n",
    "# ***\n",
    "# ****\n",
    "# *****\n",
    "\n",
    "for i in range(1,6):\n",
    "    for j in range(i):\n",
    "        print(\"*\",end=\"\")\n",
    "    print()        "
   ]
  },
  {
   "cell_type": "code",
   "execution_count": 131,
   "id": "076f090c",
   "metadata": {},
   "outputs": [
    {
     "name": "stdout",
     "output_type": "stream",
     "text": [
      "1\n",
      "12\n",
      "123\n",
      "1234\n",
      "12345\n"
     ]
    }
   ],
   "source": [
    "# 7] Write a program to print following pattern:\n",
    "# 1\n",
    "# 12\n",
    "# 123\n",
    "# 1234\n",
    "n=5\n",
    "for i in range(1,n+1):\n",
    "    for j in range(1,i+1):\n",
    "        print(j,end=\"\")\n",
    "    print()    "
   ]
  },
  {
   "cell_type": "code",
   "execution_count": 137,
   "id": "dbc00980",
   "metadata": {},
   "outputs": [
    {
     "name": "stdout",
     "output_type": "stream",
     "text": [
      "HELLO PYTHON\n",
      "Hello python\n"
     ]
    }
   ],
   "source": [
    "# 8] Write a program to convert this string \"hello python\" into uppercase using string built-in function.\n",
    "\n",
    "a='hello python'\n",
    "x=a.upper()\n",
    "print(x)\n",
    "\n",
    "a='hello python'\n",
    "x=a.capitalize()\n",
    "print(x)\n"
   ]
  },
  {
   "cell_type": "code",
   "execution_count": 138,
   "id": "aae824b2",
   "metadata": {},
   "outputs": [
    {
     "name": "stdout",
     "output_type": "stream",
     "text": [
      "hello python\n"
     ]
    }
   ],
   "source": [
    "# 9] Write a program to convert this string \"HELLO PYTHON\" into lowercase using string built-in function.\n",
    "\n",
    "a='HELLO PYTHON'\n",
    "x=a.casefold()\n",
    "print(x)"
   ]
  }
 ],
 "metadata": {
  "kernelspec": {
   "display_name": "Python 3 (ipykernel)",
   "language": "python",
   "name": "python3"
  },
  "language_info": {
   "codemirror_mode": {
    "name": "ipython",
    "version": 3
   },
   "file_extension": ".py",
   "mimetype": "text/x-python",
   "name": "python",
   "nbconvert_exporter": "python",
   "pygments_lexer": "ipython3",
   "version": "3.9.7"
  }
 },
 "nbformat": 4,
 "nbformat_minor": 5
}
