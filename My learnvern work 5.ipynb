{
 "cells": [
  {
   "cell_type": "markdown",
   "id": "41d852ea",
   "metadata": {},
   "source": [
    "# File handling in Python"
   ]
  },
  {
   "cell_type": "code",
   "execution_count": 1,
   "id": "e1dd6a5d",
   "metadata": {},
   "outputs": [],
   "source": [
    "# \"r\"-Read a file content\n",
    "# \"a\"-Append a value in file\n",
    "# \"w\"-Write a value in file"
   ]
  },
  {
   "cell_type": "markdown",
   "id": "d44778ef",
   "metadata": {},
   "source": [
    "# File Creating"
   ]
  },
  {
   "cell_type": "code",
   "execution_count": 33,
   "id": "fffd3b07",
   "metadata": {},
   "outputs": [
    {
     "name": "stdout",
     "output_type": "stream",
     "text": [
      "File Created!\n"
     ]
    }
   ],
   "source": [
    "# open(\"File name\",Permission)\n",
    "s=\"This is my file handling program\"\n",
    "file = open(\"demo1.txt\",\"w\")\n",
    "file.write(s)\n",
    "print(\"File Created!\")\n",
    "file.close()"
   ]
  },
  {
   "cell_type": "markdown",
   "id": "72188b79",
   "metadata": {},
   "source": [
    "# File Read"
   ]
  },
  {
   "cell_type": "code",
   "execution_count": 6,
   "id": "7775203a",
   "metadata": {},
   "outputs": [
    {
     "name": "stdout",
     "output_type": "stream",
     "text": [
      "This is my file handling program\n"
     ]
    }
   ],
   "source": [
    "file=open(\"demo1.txt\",\"r\")\n",
    "filecontent=file.read()\n",
    "print(filecontent)"
   ]
  },
  {
   "cell_type": "markdown",
   "id": "b2212ed3",
   "metadata": {},
   "source": [
    "# Write a list into file"
   ]
  },
  {
   "cell_type": "code",
   "execution_count": 23,
   "id": "d00d6b15",
   "metadata": {},
   "outputs": [
    {
     "name": "stdout",
     "output_type": "stream",
     "text": [
      "File Created!\n"
     ]
    }
   ],
   "source": [
    "l1=[\"python\",\"C\",\"java\",\"CPP\"]\n",
    "file=open(\"demo2.txt\",\"w\")\n",
    "file.writelines(l1)\n",
    "print(\"File Created!\")\n",
    "file.close()"
   ]
  },
  {
   "cell_type": "markdown",
   "id": "d62a09b6",
   "metadata": {},
   "source": [
    "# Read a list from file"
   ]
  },
  {
   "cell_type": "code",
   "execution_count": 2,
   "id": "20a2427c",
   "metadata": {},
   "outputs": [
    {
     "name": "stdout",
     "output_type": "stream",
     "text": [
      "['pythonCjavaCPP']\n"
     ]
    }
   ],
   "source": [
    "file=open(\"demo2.txt\",\"r\")\n",
    "filelist=file.readlines()\n",
    "print(filelist)"
   ]
  },
  {
   "cell_type": "markdown",
   "id": "7209788e",
   "metadata": {},
   "source": [
    "# Appending the value into file"
   ]
  },
  {
   "cell_type": "code",
   "execution_count": 34,
   "id": "0cb41e48",
   "metadata": {},
   "outputs": [
    {
     "name": "stdout",
     "output_type": "stream",
     "text": [
      "File Updated\n"
     ]
    }
   ],
   "source": [
    "s= \"Python file handling\"\n",
    "file=open(\"demo1.txt\",\"a\")\n",
    "file.write(s)\n",
    "print(\"File Updated\")\n",
    "file.close()"
   ]
  },
  {
   "cell_type": "markdown",
   "id": "cc7cc849",
   "metadata": {},
   "source": [
    "#  Assignment No. 5"
   ]
  },
  {
   "cell_type": "code",
   "execution_count": 5,
   "id": "4d75b8a3",
   "metadata": {},
   "outputs": [
    {
     "name": "stdout",
     "output_type": "stream",
     "text": [
      "File Created!\n",
      "File for assignment\n"
     ]
    }
   ],
   "source": [
    "# 1] Write a program to create a.txt file and read an entire text file.\n",
    "\n",
    "x=\"File for assignment\"\n",
    "file=open(\"a.txt\",\"w\")\n",
    "file.write(x)\n",
    "print(\"File Created!\")\n",
    "file=open(\"a.txt\",\"r\")\n",
    "filecontent=file.read()\n",
    "print(filecontent)"
   ]
  },
  {
   "cell_type": "code",
   "execution_count": 25,
   "id": "0afb2399",
   "metadata": {},
   "outputs": [
    {
     "name": "stdout",
     "output_type": "stream",
     "text": [
      "['This is my file handling programPython file handling']\n"
     ]
    }
   ],
   "source": [
    "# 2] Write a program to Read first N lines of a file.\n",
    "\n",
    "file=open(\"demo1.txt\",\"r\")\n",
    "variable=file.readlines(1)\n",
    "print(variable)"
   ]
  },
  {
   "cell_type": "code",
   "execution_count": 35,
   "id": "077ee027",
   "metadata": {},
   "outputs": [
    {
     "name": "stdout",
     "output_type": "stream",
     "text": [
      "Updated!\n"
     ]
    },
    {
     "data": {
      "text/plain": [
       "'This is my file handling programPython file handlingTommarow is AIML lecture schedule!'"
      ]
     },
     "execution_count": 35,
     "metadata": {},
     "output_type": "execute_result"
    }
   ],
   "source": [
    "# 3] Write a program to append text to a file and display the text.\n",
    "\n",
    "x= \"Tommarow is AIML lecture schedule!\"\n",
    "file=open(\"demo1.txt\",\"a\")\n",
    "file.write(x)\n",
    "print(\"Updated!\")\n",
    "file.close()\n",
    "file=open(\"demo1.txt\",\"r\")\n",
    "file.read()"
   ]
  },
  {
   "cell_type": "code",
   "execution_count": 37,
   "id": "5a481067",
   "metadata": {},
   "outputs": [
    {
     "name": "stdout",
     "output_type": "stream",
     "text": [
      "list added!\n"
     ]
    }
   ],
   "source": [
    "# 4] Write a program to store given list [\"Apple\",\"Mango\",\"Orange\"] into file.\n",
    "\n",
    "l1=[\"Apple\",\"Mango\",\"Orange\"]\n",
    "file=open(\"demo1.txt\",\"w\")\n",
    "file.writelines(l1)\n",
    "print(\"list added!\")\n",
    "file.close()"
   ]
  },
  {
   "cell_type": "code",
   "execution_count": 38,
   "id": "eff2b651",
   "metadata": {},
   "outputs": [
    {
     "data": {
      "text/plain": [
       "['AppleMangoOrange']"
      ]
     },
     "execution_count": 38,
     "metadata": {},
     "output_type": "execute_result"
    }
   ],
   "source": [
    "# 5] Write a program to read list from the file.\n",
    "\n",
    "file=open(\"demo1.txt\",\"r\")\n",
    "file.readlines()"
   ]
  }
 ],
 "metadata": {
  "kernelspec": {
   "display_name": "Python 3 (ipykernel)",
   "language": "python",
   "name": "python3"
  },
  "language_info": {
   "codemirror_mode": {
    "name": "ipython",
    "version": 3
   },
   "file_extension": ".py",
   "mimetype": "text/x-python",
   "name": "python",
   "nbconvert_exporter": "python",
   "pygments_lexer": "ipython3",
   "version": "3.9.7"
  }
 },
 "nbformat": 4,
 "nbformat_minor": 5
}
