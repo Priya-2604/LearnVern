{
 "cells": [
  {
   "cell_type": "code",
   "execution_count": null,
   "id": "8272c010",
   "metadata": {},
   "outputs": [],
   "source": [
    "# 3. COLLECTION IN PYTHON"
   ]
  },
  {
   "cell_type": "code",
   "execution_count": 5,
   "id": "bab75d6c",
   "metadata": {},
   "outputs": [
    {
     "name": "stdout",
     "output_type": "stream",
     "text": [
      "Integer list: [1, 2, 3, 4, 5, 6]\n",
      "String list: ['Apple', 'Mango', 'Banana', 'Orange']\n"
     ]
    }
   ],
   "source": [
    "# Creating a list\n",
    "\n",
    "l1=[1,2,3,4,5,6]\n",
    "l2=['Apple','Mango','Banana',\"Orange\"] #python can stored value in both quotation.\n",
    "print(\"Integer list:\",l1)\n",
    "print(\"String list:\",l2)"
   ]
  },
  {
   "cell_type": "code",
   "execution_count": 6,
   "id": "e15be9f2",
   "metadata": {},
   "outputs": [
    {
     "name": "stdout",
     "output_type": "stream",
     "text": [
      "Duplicate value: [1, 2, 3, 4, 5, 6, 1, 2, 3]\n"
     ]
    }
   ],
   "source": [
    "# Duplicate values in list\n",
    "\n",
    "l1=[1,2,3,4,5,6,1,2,3]\n",
    "print(\"Duplicate value:\",l1)"
   ]
  },
  {
   "cell_type": "code",
   "execution_count": 7,
   "id": "3cd3fbd7",
   "metadata": {},
   "outputs": [
    {
     "name": "stdout",
     "output_type": "stream",
     "text": [
      "['Apple', 'Mango', 'Orange']\n"
     ]
    }
   ],
   "source": [
    "# List constructor\n",
    "\n",
    "l1=list((\"Apple\",\"Mango\",\"Orange\")) # Double brackets\n",
    "print(l1)"
   ]
  },
  {
   "cell_type": "code",
   "execution_count": 8,
   "id": "85b01eaf",
   "metadata": {},
   "outputs": [
    {
     "name": "stdout",
     "output_type": "stream",
     "text": [
      "Current list: [1, 2, 3, 4, 5, 6, 7, 8, 9, 10]\n",
      "Index 1 value: 2\n",
      "Index b/w 1:6 [2, 3, 4, 5, 6]\n",
      "Index till 6 [1, 2, 3, 4, 5, 6]\n",
      "Last value 10\n"
     ]
    }
   ],
   "source": [
    "# List slicing\n",
    "\n",
    "l1=[1,2,3,4,5,6,7,8,9,10]\n",
    "print(\"Current list:\",l1)\n",
    "\n",
    "print(\"Index 1 value:\",l1[1])\n",
    "\n",
    "print(\"Index b/w 1:6\",l1[1:6])\n",
    "\n",
    "print(\"Index till 6\",l1[:6])\n",
    "\n",
    "print(\"Last value\",l1[-1])"
   ]
  },
  {
   "cell_type": "code",
   "execution_count": 9,
   "id": "5b883559",
   "metadata": {},
   "outputs": [
    {
     "name": "stdout",
     "output_type": "stream",
     "text": [
      "['Apple', 'Mango', 'Orange', 'Banana']\n",
      "Updated list: ['Apple', 'Grapes', 'Kiwi', 'Banana']\n"
     ]
    }
   ],
   "source": [
    "# List item change\n",
    "\n",
    "x=[\"Apple\",\"Mango\",\"Orange\",\"Banana\"]\n",
    "print(x)\n",
    "\n",
    "x[1:3]=[\"Grapes\",\"Kiwi\"]\n",
    "print(\"Updated list:\",x)"
   ]
  },
  {
   "cell_type": "code",
   "execution_count": 10,
   "id": "c855adc4",
   "metadata": {},
   "outputs": [
    {
     "name": "stdout",
     "output_type": "stream",
     "text": [
      "[1, 2, 3, 4, 5, 6]\n",
      "Updated list: [1, 2, 'Python', 3, 4, 5, 6]\n"
     ]
    }
   ],
   "source": [
    "# Insert into list\n",
    "\n",
    "l1=[1,2,3,4,5,6]\n",
    "print(l1)\n",
    "\n",
    "l1.insert(2,\"Python\")\n",
    "print(\"Updated list:\",l1)"
   ]
  },
  {
   "cell_type": "code",
   "execution_count": 11,
   "id": "3cb71a21",
   "metadata": {},
   "outputs": [
    {
     "name": "stdout",
     "output_type": "stream",
     "text": [
      "[1, 2, 3, 4, 5, 'A', 'B', 'C', 'D']\n"
     ]
    }
   ],
   "source": [
    "# Extend the list\n",
    "\n",
    "l1=[1,2,3,4,5]\n",
    "l2=['A','B','C','D']\n",
    "#Extending the list of l2 into list of l1.\n",
    "l1.extend(l2)\n",
    "print(l1)"
   ]
  },
  {
   "cell_type": "code",
   "execution_count": 12,
   "id": "37934a8a",
   "metadata": {},
   "outputs": [
    {
     "name": "stdout",
     "output_type": "stream",
     "text": [
      "[1, 2, 3, 4, 5, 6, 7]\n",
      "Updated list: [1, 2, 4, 5, 6, 7]\n"
     ]
    }
   ],
   "source": [
    "# Remove item from list\n",
    "\n",
    "#remove(): This method is used to remove element from list.\n",
    "l1=[1,2,3,4,5,6,7]\n",
    "print(l1)\n",
    "\n",
    "l1.remove(3)\n",
    "print(\"Updated list:\",l1)"
   ]
  },
  {
   "cell_type": "code",
   "execution_count": 13,
   "id": "2a162e96",
   "metadata": {},
   "outputs": [
    {
     "name": "stdout",
     "output_type": "stream",
     "text": [
      "[1, 2, 3, 4, 5, 6, 7]\n",
      "Updated list: [1, 2, 3, 4, 5, 6]\n"
     ]
    }
   ],
   "source": [
    "#pop(): This method is used to remove last value from list\n",
    "\n",
    "l1=[1,2,3,4,5,6,7]\n",
    "print(l1)\n",
    "\n",
    "l1.pop()\n",
    "print(\"Updated list:\",l1)"
   ]
  },
  {
   "cell_type": "code",
   "execution_count": 14,
   "id": "41ee8311",
   "metadata": {},
   "outputs": [
    {
     "name": "stdout",
     "output_type": "stream",
     "text": [
      "[1, 2, 3, 4, 5, 6, 7]\n",
      "Updated list: [1, 2, 4, 5, 6, 7]\n"
     ]
    }
   ],
   "source": [
    "# del(): This method is used to remove items from the index.\n",
    "\n",
    "l1=[1,2,3,4,5,6,7]\n",
    "print(l1)\n",
    "\n",
    "del l1[2]\n",
    "print(\"Updated list:\",l1)"
   ]
  },
  {
   "cell_type": "code",
   "execution_count": 15,
   "id": "51500b9a",
   "metadata": {},
   "outputs": [
    {
     "name": "stdout",
     "output_type": "stream",
     "text": [
      "[1, 2, 3, 4, 5, 6, 7]\n",
      "Updated list: []\n"
     ]
    }
   ],
   "source": [
    "# clear(): This method is used to clear the list\n",
    "\n",
    "l1=[1,2,3,4,5,6,7]\n",
    "print(l1)\n",
    "\n",
    "l1.clear()\n",
    "print(\"Updated list:\",l1)"
   ]
  },
  {
   "cell_type": "markdown",
   "id": "333a4690",
   "metadata": {},
   "source": [
    "TUPLES : IMMUTABLE"
   ]
  },
  {
   "cell_type": "code",
   "execution_count": 16,
   "id": "3b14f421",
   "metadata": {},
   "outputs": [
    {
     "name": "stdout",
     "output_type": "stream",
     "text": [
      "('Apple', 'Orange', 'Cherry', 1, 2, 3, 4)\n"
     ]
    }
   ],
   "source": [
    "# creating a Tuple\n",
    "\n",
    "t1=(\"Apple\",\"Orange\",\"Cherry\",1,2,3,4)\n",
    "print(t1)"
   ]
  },
  {
   "cell_type": "code",
   "execution_count": 17,
   "id": "7d66d600",
   "metadata": {},
   "outputs": [
    {
     "name": "stdout",
     "output_type": "stream",
     "text": [
      "Size: 4\n"
     ]
    }
   ],
   "source": [
    "# To check length\n",
    "t1=(1,2,3,4)\n",
    "print(\"Size:\",len(t1))"
   ]
  },
  {
   "cell_type": "markdown",
   "id": "22bbca3c",
   "metadata": {},
   "source": [
    "INDEXING / SLICING"
   ]
  },
  {
   "cell_type": "code",
   "execution_count": 18,
   "id": "91e00053",
   "metadata": {},
   "outputs": [
    {
     "name": "stdout",
     "output_type": "stream",
     "text": [
      "('Apple', 'Orange', 'Cherry', 1, 2, 3, 4)\n",
      "Index 1 value: Orange\n",
      "Index between 1 to 6: ('Orange', 'Cherry', 1, 2, 3)\n"
     ]
    }
   ],
   "source": [
    "t1=(\"Apple\",\"Orange\",\"Cherry\",1,2,3,4)\n",
    "print(t1)\n",
    "\n",
    "print(\"Index 1 value:\",t1[1])\n",
    "\n",
    "print(\"Index between 1 to 6:\",t1[1:6])"
   ]
  },
  {
   "cell_type": "markdown",
   "id": "2affafa4",
   "metadata": {},
   "source": [
    "CONVERT TUPLE INTO LIST"
   ]
  },
  {
   "cell_type": "code",
   "execution_count": 19,
   "id": "f9106b37",
   "metadata": {},
   "outputs": [
    {
     "name": "stdout",
     "output_type": "stream",
     "text": [
      "('Apple', 'Orange', 'Cherry', 1, 2, 3, 4)\n",
      "['Apple', 'Orange', 'Cherry', 1, 2, 3, 4]\n"
     ]
    }
   ],
   "source": [
    "t1=(\"Apple\",\"Orange\",\"Cherry\",1,2,3,4)\n",
    "print(t1)\n",
    "\n",
    "x=list(t1)\n",
    "print(x)"
   ]
  },
  {
   "cell_type": "markdown",
   "id": "f35fd517",
   "metadata": {},
   "source": [
    "TUPLE CONSTRUCTOR"
   ]
  },
  {
   "cell_type": "code",
   "execution_count": 20,
   "id": "16e76e76",
   "metadata": {},
   "outputs": [
    {
     "name": "stdout",
     "output_type": "stream",
     "text": [
      "('Apple', 'Mango', 'Cherry')\n"
     ]
    }
   ],
   "source": [
    "t1=tuple((\"Apple\",\"Mango\",\"Cherry\"))  # double-round brackets\n",
    "print(t1)"
   ]
  },
  {
   "cell_type": "markdown",
   "id": "d5f5595a",
   "metadata": {},
   "source": [
    "Add item but after converting tuple into list"
   ]
  },
  {
   "cell_type": "code",
   "execution_count": 21,
   "id": "f5b54521",
   "metadata": {},
   "outputs": [
    {
     "name": "stdout",
     "output_type": "stream",
     "text": [
      "('Apple', 'Mango', 'Cherry')\n",
      "['Apple', 'Mango', 'Cherry']\n",
      "Updated list: ['Apple', 'Kiwi', 'Cherry']\n",
      "Updated Tuple: ('Apple', 'Kiwi', 'Cherry')\n"
     ]
    }
   ],
   "source": [
    "t1=(\"Apple\",\"Mango\",\"Cherry\") \n",
    "print(t1)\n",
    "type(t1)\n",
    "x=list(t1)\n",
    "print(x)\n",
    "type(x)\n",
    "x[1]=\"Kiwi\"\n",
    "print(\"Updated list:\",x)\n",
    "y=tuple(x)\n",
    "print(\"Updated Tuple:\",y)"
   ]
  },
  {
   "cell_type": "markdown",
   "id": "9c3a1aec",
   "metadata": {},
   "source": [
    "Loop with Tuple"
   ]
  },
  {
   "cell_type": "code",
   "execution_count": 22,
   "id": "02184d49",
   "metadata": {},
   "outputs": [
    {
     "name": "stdout",
     "output_type": "stream",
     "text": [
      "Apple\n",
      "Mango\n",
      "Cherry\n"
     ]
    }
   ],
   "source": [
    "t1=(\"Apple\",\"Mango\",\"Cherry\")\n",
    "for i in t1:\n",
    "    print(i)"
   ]
  },
  {
   "cell_type": "code",
   "execution_count": 23,
   "id": "d7968ccb",
   "metadata": {},
   "outputs": [
    {
     "name": "stdout",
     "output_type": "stream",
     "text": [
      "Apple\n",
      "Mango\n",
      "Cherry\n",
      "Loop finish\n"
     ]
    }
   ],
   "source": [
    "# while loop with tuple\n",
    "\n",
    "t1=(\"Apple\",\"Mango\",\"Cherry\")\n",
    "i=0\n",
    "while i<len(t1):\n",
    "    print(t1[i])\n",
    "    i=i+1\n",
    "else:\n",
    "    print(\"Loop finish\")"
   ]
  },
  {
   "cell_type": "markdown",
   "id": "e3f2b1c3",
   "metadata": {},
   "source": [
    "How to compare Tuples"
   ]
  },
  {
   "cell_type": "code",
   "execution_count": 24,
   "id": "de3adcea",
   "metadata": {},
   "outputs": [
    {
     "name": "stdout",
     "output_type": "stream",
     "text": [
      "False\n",
      "True\n",
      "False\n"
     ]
    }
   ],
   "source": [
    "t1=(1,2,3)\n",
    "t2=(1,2,4)\n",
    "print(t1==t2)\n",
    "\n",
    "print(t1<t2)\n",
    "\n",
    "print(t1>t2)"
   ]
  },
  {
   "cell_type": "markdown",
   "id": "cfcbc853",
   "metadata": {},
   "source": [
    "DICTIONARY"
   ]
  },
  {
   "cell_type": "code",
   "execution_count": 25,
   "id": "b063d388",
   "metadata": {},
   "outputs": [
    {
     "name": "stdout",
     "output_type": "stream",
     "text": [
      "{1: 'Apple', 2: 'Orange', 3: 'Cherry', 'A': 'B'}\n",
      "<class 'dict'>\n"
     ]
    }
   ],
   "source": [
    "# Creating a Dictionary\n",
    "\n",
    "d1={1:\"Apple\",2:\"Orange\",3:\"Cherry\",'A':'B'}\n",
    "print(d1)\n",
    "print(type(d1))"
   ]
  },
  {
   "cell_type": "code",
   "execution_count": 26,
   "id": "463c4e95",
   "metadata": {},
   "outputs": [
    {
     "name": "stdout",
     "output_type": "stream",
     "text": [
      "{1: 'C', 2: 'java', 3: 'Python', 'A': 'B', 'fruit': ['Apple', 'Orange']}\n"
     ]
    }
   ],
   "source": [
    "# list into dictionary store\n",
    "\n",
    "d1={1:\"C\",2:\"java\",3:\"Python\",'A':'B',\"fruit\":[\"Apple\",\"Orange\"]}\n",
    "print(d1)\n"
   ]
  },
  {
   "cell_type": "code",
   "execution_count": 28,
   "id": "5feb2cae",
   "metadata": {},
   "outputs": [
    {
     "name": "stdout",
     "output_type": "stream",
     "text": [
      "{1: 'C', 2: 'java', 3: 'Python', 'A': 'B', 'fruit': 'Apple'}\n",
      "Python\n",
      "C\n",
      "dict_items([(1, 'C'), (2, 'java'), (3, 'Python'), ('A', 'B'), ('fruit', 'Apple')])\n",
      "dict_keys([1, 2, 3, 'A', 'fruit'])\n",
      "dict_values(['C', 'java', 'Python', 'B', 'Apple'])\n"
     ]
    }
   ],
   "source": [
    "# Access the value of dictionary\n",
    "\n",
    "d1={1:\"C\",2:\"java\",3:\"Python\",'A':'B',\"fruit\":\"Apple\"}\n",
    "print(d1)\n",
    "x=d1[3]\n",
    "print(x)\n",
    "\n",
    "# acces the value using get()\n",
    "\n",
    "y=d1.get(1)\n",
    "print(y)\n",
    "\n",
    "# Access the value using item()\n",
    " #(Tuple into a list)\n",
    "z=d1.items()\n",
    "print(z)\n",
    "\n",
    "# Access the only keys fron dictionary\n",
    "k=d1.keys()\n",
    "print(k)\n",
    "\n",
    "# Access the only values fron dictionary\n",
    "v=d1.values()\n",
    "print(v)"
   ]
  },
  {
   "cell_type": "code",
   "execution_count": 29,
   "id": "6384dc11",
   "metadata": {},
   "outputs": [
    {
     "name": "stdout",
     "output_type": "stream",
     "text": [
      "{1: 'C', 2: 'java', 3: 'Python', 'A': 'B', 'fruit': ['Apple', 'Orange']}\n",
      "{1: 'C', 2: 'java', 3: 'Kiwi', 'A': 'B', 'fruit': ['Apple', 'Orange']}\n"
     ]
    }
   ],
   "source": [
    "# Change the values \n",
    "\n",
    "d1={1:\"C\",2:\"java\",3:\"Python\",'A':'B',\"fruit\":[\"Apple\",\"Orange\"]}\n",
    "print(d1)\n",
    "d1[3]=\"Kiwi\"\n",
    "print(d1)"
   ]
  },
  {
   "cell_type": "code",
   "execution_count": 30,
   "id": "bffc3d83",
   "metadata": {},
   "outputs": [
    {
     "name": "stdout",
     "output_type": "stream",
     "text": [
      "{1: 'C', 2: 'java', 3: 'Python', 'A': 'B', 'fruit': ['Apple', 'Orange']}\n",
      "{1: 'C', 2: 'Laddu', 3: 'Python', 'A': 'B', 'fruit': ['Apple', 'Orange']}\n"
     ]
    }
   ],
   "source": [
    "# Update dictionary by using update()\n",
    "\n",
    "d1={1:\"C\",2:\"java\",3:\"Python\",'A':'B',\"fruit\":[\"Apple\",\"Orange\"]}\n",
    "print(d1)\n",
    "d1.update({2:\"Laddu\"})\n",
    "print(d1)"
   ]
  },
  {
   "cell_type": "code",
   "execution_count": 31,
   "id": "076d2f16",
   "metadata": {},
   "outputs": [
    {
     "name": "stdout",
     "output_type": "stream",
     "text": [
      "{1: 'C', 2: 'java', 3: 'Python', 'A': 'B', 'fruit': ['Apple', 'Orange']}\n",
      "{1: 'C', 3: 'Python', 'A': 'B', 'fruit': ['Apple', 'Orange']}\n"
     ]
    }
   ],
   "source": [
    "# Remove values from Dictionary\n",
    "\n",
    "d1={1:\"C\",2:\"java\",3:\"Python\",'A':'B',\"fruit\":[\"Apple\",\"Orange\"]}\n",
    "print(d1)\n",
    "# pop()\n",
    "d1.pop(2)\n",
    "print(d1)\n"
   ]
  },
  {
   "cell_type": "code",
   "execution_count": 32,
   "id": "f1760fb3",
   "metadata": {},
   "outputs": [
    {
     "name": "stdout",
     "output_type": "stream",
     "text": [
      "{1: 'C', 2: 'java', 3: 'Python', 'A': 'B', 'fruit': ['Apple', 'Orange']}\n",
      "{1: 'C', 2: 'java', 3: 'Python', 'A': 'B'}\n"
     ]
    }
   ],
   "source": [
    "d1={1:\"C\",2:\"java\",3:\"Python\",'A':'B',\"fruit\":[\"Apple\",\"Orange\"]}\n",
    "print(d1)\n",
    "# using popitem()  : To remove last item\n",
    "d1.popitem()\n",
    "print(d1)"
   ]
  },
  {
   "cell_type": "code",
   "execution_count": 33,
   "id": "59af673d",
   "metadata": {},
   "outputs": [
    {
     "name": "stdout",
     "output_type": "stream",
     "text": [
      "{1: 'C', 2: 'java', 3: 'Python', 'A': 'B', 'fruit': ['Apple', 'Orange']}\n",
      "{2: 'java', 3: 'Python', 'A': 'B', 'fruit': ['Apple', 'Orange']}\n"
     ]
    }
   ],
   "source": [
    "d1={1:\"C\",2:\"java\",3:\"Python\",'A':'B',\"fruit\":[\"Apple\",\"Orange\"]}\n",
    "print(d1)\n",
    "# using del()\n",
    "\n",
    "del d1[1]\n",
    "print(d1)"
   ]
  },
  {
   "cell_type": "code",
   "execution_count": 34,
   "id": "291a9165",
   "metadata": {},
   "outputs": [
    {
     "name": "stdout",
     "output_type": "stream",
     "text": [
      "{1: 'C', 2: 'java', 3: 'Python', 'A': 'B', 'fruit': ['Apple', 'Orange']}\n",
      "{}\n"
     ]
    }
   ],
   "source": [
    "d1={1:\"C\",2:\"java\",3:\"Python\",'A':'B',\"fruit\":[\"Apple\",\"Orange\"]}\n",
    "print(d1)\n",
    "# using clear()\n",
    "d1.clear()\n",
    "print(d1)"
   ]
  },
  {
   "cell_type": "markdown",
   "id": "df23b5a3",
   "metadata": {},
   "source": [
    "ASSIGNMENT 3"
   ]
  },
  {
   "cell_type": "code",
   "execution_count": 3,
   "id": "700624f1",
   "metadata": {},
   "outputs": [
    {
     "name": "stdout",
     "output_type": "stream",
     "text": [
      "(1, 2, 3, 4)\n",
      "[1, 2, 3, 4]\n"
     ]
    }
   ],
   "source": [
    "# 1] Write a program to convert tuple into list\n",
    "\n",
    "tuple=(1,2,3,4)\n",
    "print(tuple)\n",
    "\n",
    "list=list(tuple)\n",
    "print(list)"
   ]
  },
  {
   "cell_type": "code",
   "execution_count": 4,
   "id": "0a5ac0ce",
   "metadata": {},
   "outputs": [
    {
     "name": "stdout",
     "output_type": "stream",
     "text": [
      "(1, 2, 3, 4, 5, 6, 7, 8)\n",
      "1\n"
     ]
    }
   ],
   "source": [
    "# 2] Write a program to count element in given tuple(1,2,3,4,5,6,7,8).\n",
    "\n",
    "tuple=(1,2,3,4,5,6,7,8)\n",
    "print(tuple)\n",
    "a=tuple.count(2)\n",
    "print(a)"
   ]
  },
  {
   "cell_type": "code",
   "execution_count": 6,
   "id": "361da017",
   "metadata": {},
   "outputs": [
    {
     "name": "stdout",
     "output_type": "stream",
     "text": [
      "['Java', 'Php', '.Net', 'Angular']\n",
      "['Java', 'Php', 'Python', '.Net', 'Angular']\n"
     ]
    }
   ],
   "source": [
    "# 3] Write a program to insert the element \"Python\" on index 2 in the given list[\"Java\",\"Php\",\".Net\",\"Angular\"]\n",
    "\n",
    "list=[\"Java\",\"Php\",\".Net\",\"Angular\"]\n",
    "print(list)\n",
    "list.insert(2,\"Python\")\n",
    "print(list)"
   ]
  },
  {
   "cell_type": "code",
   "execution_count": 8,
   "id": "cc242c3d",
   "metadata": {},
   "outputs": [
    {
     "name": "stdout",
     "output_type": "stream",
     "text": [
      "[1, 2, 3, 4, 5, 6]\n",
      "Updated list: [1, 2, 4, 5, 6]\n"
     ]
    }
   ],
   "source": [
    "# 4] Write a program to remove the element \"3\" from the given list [1,2,3,4,5,6]\n",
    "\n",
    "list=[1,2,3,4,5,6]\n",
    "print(list)\n",
    "list.pop(2)\n",
    "print(\"Updated list:\",list)"
   ]
  }
 ],
 "metadata": {
  "kernelspec": {
   "display_name": "Python 3 (ipykernel)",
   "language": "python",
   "name": "python3"
  },
  "language_info": {
   "codemirror_mode": {
    "name": "ipython",
    "version": 3
   },
   "file_extension": ".py",
   "mimetype": "text/x-python",
   "name": "python",
   "nbconvert_exporter": "python",
   "pygments_lexer": "ipython3",
   "version": "3.9.7"
  }
 },
 "nbformat": 4,
 "nbformat_minor": 5
}
