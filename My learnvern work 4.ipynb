{
 "cells": [
  {
   "cell_type": "markdown",
   "id": "4ad6fb0f",
   "metadata": {},
   "source": [
    "# Python functions"
   ]
  },
  {
   "cell_type": "code",
   "execution_count": 1,
   "id": "fda57a95",
   "metadata": {},
   "outputs": [],
   "source": [
    "# -block of code\n",
    "# -uswed for reusability of code\n",
    "# -function is start with \"def\" code\n",
    "\n",
    "# Types: built-in,user-define,anonymous function(one line)"
   ]
  },
  {
   "cell_type": "markdown",
   "id": "3432eaf0",
   "metadata": {},
   "source": [
    "# In-built function"
   ]
  },
  {
   "cell_type": "code",
   "execution_count": 3,
   "id": "4470bc21",
   "metadata": {},
   "outputs": [
    {
     "name": "stdout",
     "output_type": "stream",
     "text": [
      "1\n",
      "2\n",
      "3\n",
      "4\n",
      "5\n",
      "6\n",
      "7\n",
      "8\n"
     ]
    }
   ],
   "source": [
    "# range(0)\n",
    "for i in range(1,9):\n",
    "    print(i)"
   ]
  },
  {
   "cell_type": "code",
   "execution_count": 5,
   "id": "a300c126",
   "metadata": {},
   "outputs": [
    {
     "name": "stdout",
     "output_type": "stream",
     "text": [
      "53.79\n"
     ]
    }
   ],
   "source": [
    "# round()\n",
    "x=round(53.7856,2)\n",
    "print(x)"
   ]
  },
  {
   "cell_type": "markdown",
   "id": "6680d593",
   "metadata": {},
   "source": [
    "# User-define "
   ]
  },
  {
   "cell_type": "code",
   "execution_count": 7,
   "id": "96bcbebc",
   "metadata": {},
   "outputs": [
    {
     "name": "stdout",
     "output_type": "stream",
     "text": [
      "hello\n"
     ]
    }
   ],
   "source": [
    "# craete function\n",
    "def myfunction():\n",
    "    print(\"hello\")\n",
    "    \n",
    "# function callling\n",
    "myfunction()"
   ]
  },
  {
   "cell_type": "markdown",
   "id": "a10729a1",
   "metadata": {},
   "source": [
    "# Function with one argumments"
   ]
  },
  {
   "cell_type": "code",
   "execution_count": 8,
   "id": "6373bb51",
   "metadata": {},
   "outputs": [
    {
     "name": "stdout",
     "output_type": "stream",
     "text": [
      "A: 10\n"
     ]
    }
   ],
   "source": [
    "def myfunction(a):\n",
    "    print(\"A:\",a)\n",
    "    \n",
    "# fun call\n",
    "myfunction(10)"
   ]
  },
  {
   "cell_type": "markdown",
   "id": "b1c1d733",
   "metadata": {},
   "source": [
    "# Multiple Arguments"
   ]
  },
  {
   "cell_type": "code",
   "execution_count": 10,
   "id": "141c7675",
   "metadata": {},
   "outputs": [
    {
     "name": "stdout",
     "output_type": "stream",
     "text": [
      "A: 10\n",
      "B: 20\n"
     ]
    }
   ],
   "source": [
    "def myfunction(a,b):\n",
    "    print(\"A:\",a)\n",
    "    print(\"B:\",b)\n",
    "# fun call\n",
    "myfunction(10,20)"
   ]
  },
  {
   "cell_type": "markdown",
   "id": "9490bfae",
   "metadata": {},
   "source": [
    "# Keywords Arguments"
   ]
  },
  {
   "cell_type": "code",
   "execution_count": 11,
   "id": "cdef2638",
   "metadata": {},
   "outputs": [
    {
     "name": "stdout",
     "output_type": "stream",
     "text": [
      "Youngest child is:Gaurav\n"
     ]
    }
   ],
   "source": [
    "def myfunction(child1,child2,child3):\n",
    "    print(\"Youngest child is:\"+child3)\n",
    "    \n",
    "myfunction(child1=\"Priya\",child2=\"Siya\",child3=\"Gaurav\")"
   ]
  },
  {
   "cell_type": "markdown",
   "id": "31db4cb0",
   "metadata": {},
   "source": [
    "# Default parameter value"
   ]
  },
  {
   "cell_type": "code",
   "execution_count": 13,
   "id": "debd5456",
   "metadata": {},
   "outputs": [
    {
     "name": "stdout",
     "output_type": "stream",
     "text": [
      "I am from:Gujrat\n",
      "I am from:Panjab\n",
      "I am from:Maharashtra\n"
     ]
    }
   ],
   "source": [
    "def myfunction(state=\"Maharashtra\"):\n",
    "    print(\"I am from:\"+state)\n",
    "          \n",
    "myfunction(\"Gujrat\")\n",
    "myfunction(\"Panjab\")\n",
    "myfunction()\n",
    "                    \n",
    "                    "
   ]
  },
  {
   "cell_type": "markdown",
   "id": "e4098a6d",
   "metadata": {},
   "source": [
    "# Passing list into function"
   ]
  },
  {
   "cell_type": "code",
   "execution_count": 16,
   "id": "b345c3b8",
   "metadata": {},
   "outputs": [
    {
     "name": "stdout",
     "output_type": "stream",
     "text": [
      "Apple\n",
      "Mango\n",
      "Orange\n"
     ]
    }
   ],
   "source": [
    "def myfunction(fruit):\n",
    "    for i in fruit:\n",
    "        print(i)\n",
    "f=[\"Apple\",\"Mango\",\"Orange\"]    \n",
    "myfunction(f)\n",
    "        "
   ]
  },
  {
   "cell_type": "markdown",
   "id": "538f5e49",
   "metadata": {},
   "source": [
    "# Return values from function\n"
   ]
  },
  {
   "cell_type": "code",
   "execution_count": 17,
   "id": "07832712",
   "metadata": {},
   "outputs": [
    {
     "name": "stdout",
     "output_type": "stream",
     "text": [
      "15\n",
      "25\n",
      "20\n"
     ]
    }
   ],
   "source": [
    "def myfunction(x):\n",
    "    return 5*x\n",
    "print(myfunction(3))\n",
    "print(myfunction(5))\n",
    "print(myfunction(4))"
   ]
  },
  {
   "cell_type": "markdown",
   "id": "fc8eb412",
   "metadata": {},
   "source": [
    "#  Recursion function"
   ]
  },
  {
   "cell_type": "code",
   "execution_count": 58,
   "id": "7a9c53b1",
   "metadata": {},
   "outputs": [
    {
     "name": "stdout",
     "output_type": "stream",
     "text": [
      "Num:5\n",
      "The factorial of 5 is: 120\n"
     ]
    }
   ],
   "source": [
    "# The function which call itself\n",
    "def factorial(x):\n",
    "    if x==1:\n",
    "        return 1\n",
    "    else:\n",
    "        return(x*factorial(x-1))\n",
    "num= int(input(\"Num:\"))\n",
    "print(\"The factorial of\",num,\"is:\",factorial(num))"
   ]
  },
  {
   "cell_type": "markdown",
   "id": "fe3d6d02",
   "metadata": {},
   "source": [
    "# Anonymous function(Lambda function)"
   ]
  },
  {
   "cell_type": "code",
   "execution_count": 24,
   "id": "c54d07f0",
   "metadata": {},
   "outputs": [
    {
     "name": "stdout",
     "output_type": "stream",
     "text": [
      "15\n",
      "50\n"
     ]
    }
   ],
   "source": [
    "x= lambda a:a+10\n",
    "print(x(5))\n",
    "# lambda with multiple arguments\n",
    "y= lambda a,b:a*b\n",
    "print(y(5,10))\n"
   ]
  },
  {
   "cell_type": "markdown",
   "id": "09aee28d",
   "metadata": {},
   "source": [
    "# Global variable"
   ]
  },
  {
   "cell_type": "code",
   "execution_count": 27,
   "id": "feb03f8c",
   "metadata": {},
   "outputs": [
    {
     "name": "stdout",
     "output_type": "stream",
     "text": [
      "25\n",
      "20\n"
     ]
    }
   ],
   "source": [
    "# global variable means the variable can be use anywhere in the program\n",
    "\n",
    "z=25 # global variable\n",
    "def myfunction():\n",
    "    global z\n",
    "    print(z)\n",
    "    z=20\n",
    "myfunction()\n",
    "print(z)"
   ]
  },
  {
   "cell_type": "markdown",
   "id": "6cbfc431",
   "metadata": {},
   "source": [
    "# Local variable"
   ]
  },
  {
   "cell_type": "code",
   "execution_count": 32,
   "id": "24bfcabd",
   "metadata": {},
   "outputs": [
    {
     "name": "stdout",
     "output_type": "stream",
     "text": [
      "15\n",
      "<function <lambda> at 0x000002DC362BE790>\n"
     ]
    }
   ],
   "source": [
    "def sum(x,y):\n",
    "    sum=x+y\n",
    "    return sum\n",
    "print(sum(5,10))\n",
    "print(x) #variable x is a local variable"
   ]
  },
  {
   "cell_type": "markdown",
   "id": "c5540311",
   "metadata": {},
   "source": [
    "# Random Module"
   ]
  },
  {
   "cell_type": "code",
   "execution_count": null,
   "id": "daca79ac",
   "metadata": {},
   "outputs": [],
   "source": [
    "# chioce(),randint(),shuffle()\n",
    "# IMPORT RANDOM"
   ]
  },
  {
   "cell_type": "markdown",
   "id": "1534f194",
   "metadata": {},
   "source": [
    "# Choice"
   ]
  },
  {
   "cell_type": "code",
   "execution_count": 34,
   "id": "8d298325",
   "metadata": {},
   "outputs": [
    {
     "name": "stdout",
     "output_type": "stream",
     "text": [
      "1\n"
     ]
    }
   ],
   "source": [
    "from random import choice\n",
    "l1=[1,2,3,4,5]\n",
    "print(choice(l1))"
   ]
  },
  {
   "cell_type": "markdown",
   "id": "4d6c31c5",
   "metadata": {},
   "source": [
    "#  Randint()"
   ]
  },
  {
   "cell_type": "code",
   "execution_count": 36,
   "id": "04e73490",
   "metadata": {},
   "outputs": [
    {
     "name": "stdout",
     "output_type": "stream",
     "text": [
      "Your otp: 26045\n"
     ]
    }
   ],
   "source": [
    "from random import randint\n",
    "\n",
    "otp=randint(10000,99999)\n",
    "print(\"Your otp:\",otp)"
   ]
  },
  {
   "cell_type": "markdown",
   "id": "f35e27a9",
   "metadata": {},
   "source": [
    "# Shuffle()"
   ]
  },
  {
   "cell_type": "code",
   "execution_count": 38,
   "id": "b937f7b8",
   "metadata": {},
   "outputs": [
    {
     "name": "stdout",
     "output_type": "stream",
     "text": [
      "['Orange', 'Apple', 'Mango']\n"
     ]
    }
   ],
   "source": [
    "from random import shuffle\n",
    "l2=[\"Apple\",\"Mango\",\"Orange\"]\n",
    "shuffle(l2)\n",
    "print(l2)"
   ]
  },
  {
   "cell_type": "markdown",
   "id": "2c0120b1",
   "metadata": {},
   "source": [
    "# Math module"
   ]
  },
  {
   "cell_type": "code",
   "execution_count": null,
   "id": "5010eb76",
   "metadata": {},
   "outputs": [],
   "source": [
    "# import math\n",
    "# from math import function name"
   ]
  },
  {
   "cell_type": "markdown",
   "id": "45b4178a",
   "metadata": {},
   "source": [
    "# Factorial()"
   ]
  },
  {
   "cell_type": "code",
   "execution_count": 41,
   "id": "f314916c",
   "metadata": {},
   "outputs": [
    {
     "name": "stdout",
     "output_type": "stream",
     "text": [
      "362880\n",
      "120\n",
      "720\n",
      "2\n"
     ]
    }
   ],
   "source": [
    "import math\n",
    "print(math.factorial(9))\n",
    "print(math.factorial(5))\n",
    "print(math.factorial(6))\n",
    "print(math.factorial(2))"
   ]
  },
  {
   "cell_type": "markdown",
   "id": "55f95c4f",
   "metadata": {},
   "source": [
    "\n",
    "# Ceil()"
   ]
  },
  {
   "cell_type": "code",
   "execution_count": 44,
   "id": "99d2dca1",
   "metadata": {},
   "outputs": [
    {
     "name": "stdout",
     "output_type": "stream",
     "text": [
      "2\n",
      "6\n",
      "-6\n"
     ]
    }
   ],
   "source": [
    "# nearst large value\n",
    "import math\n",
    "print(math.ceil(1.5))\n",
    "print(math.ceil(5.3))\n",
    "print(math.ceil(-6.9))"
   ]
  },
  {
   "cell_type": "markdown",
   "id": "5872b905",
   "metadata": {},
   "source": [
    "# floor()"
   ]
  },
  {
   "cell_type": "code",
   "execution_count": 48,
   "id": "07af0137",
   "metadata": {},
   "outputs": [
    {
     "name": "stdout",
     "output_type": "stream",
     "text": [
      "0\n",
      "6\n"
     ]
    }
   ],
   "source": [
    "# nearst small value\n",
    "import math\n",
    "print(math.floor(0.6))\n",
    "print(math.floor(6.9))"
   ]
  },
  {
   "cell_type": "markdown",
   "id": "874b5c8a",
   "metadata": {},
   "source": [
    "# Sqrt()"
   ]
  },
  {
   "cell_type": "code",
   "execution_count": 50,
   "id": "72c4d0de",
   "metadata": {},
   "outputs": [
    {
     "name": "stdout",
     "output_type": "stream",
     "text": [
      "3.1622776601683795\n",
      "10.0\n"
     ]
    }
   ],
   "source": [
    "import math\n",
    "print(math.sqrt(10))\n",
    "print(math.sqrt(100))"
   ]
  },
  {
   "cell_type": "markdown",
   "id": "6dadd2ea",
   "metadata": {},
   "source": [
    "# Assignment-4"
   ]
  },
  {
   "cell_type": "code",
   "execution_count": 54,
   "id": "30003c0e",
   "metadata": {},
   "outputs": [
    {
     "name": "stdout",
     "output_type": "stream",
     "text": [
      "Enter your name:Priya\n",
      "Enter your subject:Math\n",
      "Name: Priya ,Subject: Math\n"
     ]
    }
   ],
   "source": [
    "# 1] Create a function that can accept two arguments name and subject and print value.\n",
    "def myfunction(name,subject):\n",
    "    print(\"Name:\",name ,\",Subject:\",subject)\n",
    "name=input(\"Enter your name:\")\n",
    "subject=input(\"Enter your subject:\")\n",
    "myfunction(name,subject)"
   ]
  },
  {
   "cell_type": "code",
   "execution_count": 5,
   "id": "5c689115",
   "metadata": {},
   "outputs": [
    {
     "name": "stdout",
     "output_type": "stream",
     "text": [
      "A+B= 1036\n"
     ]
    }
   ],
   "source": [
    "# 2]Write a function sum() such that it can accept two number arguments and print the sum of two argument\n",
    "\n",
    "def sum(a,b):\n",
    "    print(\"A+B=\",a+b)\n",
    "    \n",
    "sum(85,951)    "
   ]
  },
  {
   "cell_type": "code",
   "execution_count": 9,
   "id": "469df1b1",
   "metadata": {},
   "outputs": [
    {
     "name": "stdout",
     "output_type": "stream",
     "text": [
      "A+B= 12\n",
      "A-B= 4\n",
      "A/B= 2.0\n"
     ]
    }
   ],
   "source": [
    "# 3] Write a function calculation() such that it accept two variable and calculate the addition,subtraction and division.\n",
    "\n",
    "def calculation(a,b):\n",
    "    print(\"A+B=\",a+b)\n",
    "    print(\"A-B=\",a-b)\n",
    "    print(\"A/B=\",a/b)\n",
    "    \n",
    "calculation(8,4)    "
   ]
  },
  {
   "cell_type": "code",
   "execution_count": 66,
   "id": "1660ea23",
   "metadata": {},
   "outputs": [
    {
     "name": "stdout",
     "output_type": "stream",
     "text": [
      "The sum is: 55\n"
     ]
    }
   ],
   "source": [
    "# 4] Write a recursive function to calculate the sum of number from 0 to 10\n",
    "\n",
    "\n",
    "def recursive_sum(n):\n",
    "    if n<=1:\n",
    "        return n\n",
    "    else:\n",
    "        return n+recursive_sum(n-1)\n",
    "num= 10\n",
    "\n",
    "if num<0:\n",
    "    print(\"Enter a positive number\")\n",
    "else:\n",
    "    print(\"The sum is:\",recursive_sum(num))"
   ]
  },
  {
   "cell_type": "code",
   "execution_count": 10,
   "id": "f404a2fd",
   "metadata": {},
   "outputs": [
    {
     "name": "stdout",
     "output_type": "stream",
     "text": [
      "16\n"
     ]
    }
   ],
   "source": [
    "# 5] Create a function without any name that can accept two argument and then print sum of its value\n",
    "\n",
    "x= lambda a,b:a+b\n",
    "print(x(9,7))"
   ]
  },
  {
   "cell_type": "code",
   "execution_count": 12,
   "id": "0bc9b789",
   "metadata": {},
   "outputs": [
    {
     "name": "stdout",
     "output_type": "stream",
     "text": [
      "random_number= 3110\n"
     ]
    }
   ],
   "source": [
    "# 6] Write a program to generate a random number between 1000 to 5000 using python inbuilt module\n",
    "\n",
    "from random import randint\n",
    "\n",
    "random_number= randint(1000,5000)\n",
    "print(\"random_number=\",random_number)\n"
   ]
  },
  {
   "cell_type": "code",
   "execution_count": 70,
   "id": "1f411b32",
   "metadata": {},
   "outputs": [
    {
     "name": "stdout",
     "output_type": "stream",
     "text": [
      "v\n"
     ]
    }
   ],
   "source": [
    "# 7] Write a program to generate a random captcha list,using python inbuilt module.\n",
    "\n",
    "from random import choice\n",
    "\n",
    "captcha_list=['l','a','h','t','i','v']\n",
    "print(choice(captcha_list))"
   ]
  },
  {
   "cell_type": "code",
   "execution_count": 57,
   "id": "420b6303",
   "metadata": {},
   "outputs": [
    {
     "name": "stdout",
     "output_type": "stream",
     "text": [
      "Captcha_list: ['y', 'r', 'p', 'b', 'i', 'a']\n"
     ]
    }
   ],
   "source": [
    "# 8] Write a program to shuffle captcha list,using python inbuilt module.\n",
    "\n",
    "from random import shuffle\n",
    "\n",
    "captcha_list=['a','b','i','y','p','r']\n",
    "shuffle(captcha_list)\n",
    "print(\"Captcha_list:\",captcha_list)"
   ]
  }
 ],
 "metadata": {
  "kernelspec": {
   "display_name": "Python 3 (ipykernel)",
   "language": "python",
   "name": "python3"
  },
  "language_info": {
   "codemirror_mode": {
    "name": "ipython",
    "version": 3
   },
   "file_extension": ".py",
   "mimetype": "text/x-python",
   "name": "python",
   "nbconvert_exporter": "python",
   "pygments_lexer": "ipython3",
   "version": "3.9.7"
  }
 },
 "nbformat": 4,
 "nbformat_minor": 5
}
