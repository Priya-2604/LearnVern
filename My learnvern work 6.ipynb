{
 "cells": [
  {
   "cell_type": "markdown",
   "id": "b583ee95",
   "metadata": {},
   "source": [
    "# Exception Handling"
   ]
  },
  {
   "cell_type": "code",
   "execution_count": 5,
   "id": "3f0451c2",
   "metadata": {},
   "outputs": [
    {
     "name": "stdout",
     "output_type": "stream",
     "text": [
      "Enter the value of A:5\n",
      "A: 5\n",
      "Bye\n"
     ]
    }
   ],
   "source": [
    "# Exception create\n",
    "\n",
    "a=int(input(\"Enter the value of A:\"))\n",
    "print(\"A:\",a)\n",
    "# we got the wrong input by the user.\n",
    "print(\"Bye\")"
   ]
  },
  {
   "cell_type": "code",
   "execution_count": 13,
   "id": "2f05d00b",
   "metadata": {},
   "outputs": [
    {
     "name": "stdout",
     "output_type": "stream",
     "text": [
      "Enter A:5\n",
      "Enter B0\n",
      "Exception Caught: division by zero\n",
      "Bye\n"
     ]
    }
   ],
   "source": [
    "try:\n",
    "    # The code which is written in try block can be occur error at runtime.\n",
    "    a= int(input(\"Enter A:\"))\n",
    "    b= int(input(\"Enter B\"))\n",
    "    c=a/b  \n",
    "    print(\"Answer:\",c)\n",
    "    \n",
    "except Exception as e:\n",
    "    print(\"Exception Caught:\",e)\n",
    "\n",
    "print(\"Bye\")\n"
   ]
  },
  {
   "cell_type": "markdown",
   "id": "91531bc0",
   "metadata": {},
   "source": [
    "# Many Exception"
   ]
  },
  {
   "cell_type": "code",
   "execution_count": 29,
   "id": "3402dd58",
   "metadata": {},
   "outputs": [
    {
     "name": "stdout",
     "output_type": "stream",
     "text": [
      "Variable is not defined\n"
     ]
    }
   ],
   "source": [
    "try:\n",
    "    x=Priya\n",
    "    print(x)\n",
    "except NameError:\n",
    "    print(\"Variable is not defined\")\n",
    "except:\n",
    "    print(\"Exception Caught\")"
   ]
  },
  {
   "cell_type": "markdown",
   "id": "a236a77a",
   "metadata": {},
   "source": [
    "# How  to use else with except"
   ]
  },
  {
   "cell_type": "code",
   "execution_count": 34,
   "id": "013ca705",
   "metadata": {},
   "outputs": [
    {
     "name": "stdout",
     "output_type": "stream",
     "text": [
      "Hello\n",
      "Nothing went wrong\n"
     ]
    }
   ],
   "source": [
    "try:\n",
    "    print(\"Hello\")\n",
    "except:\n",
    "    print(\"Something went wrong\")\n",
    "else:\n",
    "    print(\"Nothing went wrong\")"
   ]
  },
  {
   "cell_type": "markdown",
   "id": "5de49fe6",
   "metadata": {},
   "source": [
    "# Finally Block"
   ]
  },
  {
   "cell_type": "code",
   "execution_count": 77,
   "id": "b4b89839",
   "metadata": {},
   "outputs": [
    {
     "name": "stdout",
     "output_type": "stream",
     "text": [
      "Hello\n",
      "Finally Block\n"
     ]
    }
   ],
   "source": [
    "# The block which run compulsory if error occurs or not\n",
    "try:\n",
    "    print(\"Hello\")\n",
    "except:\n",
    "    print(\"Something went wrong\")\n",
    "finally:\n",
    "    print(\"Finally Block\")"
   ]
  },
  {
   "cell_type": "markdown",
   "id": "7bfd5895",
   "metadata": {},
   "source": [
    "# User defined Exception"
   ]
  },
  {
   "cell_type": "code",
   "execution_count": 39,
   "id": "5c539253",
   "metadata": {},
   "outputs": [
    {
     "ename": "MyException",
     "evalue": "Something went wrong",
     "output_type": "error",
     "traceback": [
      "\u001b[1;31m---------------------------------------------------------------------------\u001b[0m",
      "\u001b[1;31mMyException\u001b[0m                               Traceback (most recent call last)",
      "\u001b[1;32m~\\AppData\\Local\\Temp/ipykernel_12924/267131650.py\u001b[0m in \u001b[0;36m<module>\u001b[1;34m\u001b[0m\n\u001b[0;32m      3\u001b[0m \u001b[0mc\u001b[0m\u001b[1;33m=\u001b[0m\u001b[1;36m25\u001b[0m\u001b[1;33m\u001b[0m\u001b[1;33m\u001b[0m\u001b[0m\n\u001b[0;32m      4\u001b[0m \u001b[1;32mif\u001b[0m \u001b[0mc\u001b[0m\u001b[1;33m>\u001b[0m\u001b[1;36m5\u001b[0m\u001b[1;33m:\u001b[0m\u001b[1;33m\u001b[0m\u001b[1;33m\u001b[0m\u001b[0m\n\u001b[1;32m----> 5\u001b[1;33m     \u001b[1;32mraise\u001b[0m \u001b[0mMyException\u001b[0m\u001b[1;33m(\u001b[0m\u001b[1;34m\"Something went wrong\"\u001b[0m\u001b[1;33m)\u001b[0m\u001b[1;33m\u001b[0m\u001b[1;33m\u001b[0m\u001b[0m\n\u001b[0m",
      "\u001b[1;31mMyException\u001b[0m: Something went wrong"
     ]
    }
   ],
   "source": [
    "class MyException(Exception):\n",
    "    pass\n",
    "c=25\n",
    "if c>5:\n",
    "    raise MyException(\"Something went wrong\")"
   ]
  },
  {
   "cell_type": "markdown",
   "id": "32242617",
   "metadata": {},
   "source": [
    "# Assignment No. 6"
   ]
  },
  {
   "cell_type": "code",
   "execution_count": 64,
   "id": "073df689",
   "metadata": {},
   "outputs": [
    {
     "name": "stdout",
     "output_type": "stream",
     "text": [
      "Enter A:56\n",
      "Enter B:abc\n",
      "You Enter Wrong Input!\n"
     ]
    }
   ],
   "source": [
    "# 1] Write a program to input two numbers from the user and check it's an integer or not using Try and Except.\n",
    "\n",
    "try:\n",
    "    a=int(input(\"Enter A:\"))\n",
    "    b=int(input(\"Enter B:\"))\n",
    "    print(\"Both numbers are integers:\",a,b)\n",
    "except: \n",
    "    print(\"You Enter Wrong Input!\")\n",
    "    "
   ]
  },
  {
   "cell_type": "code",
   "execution_count": 71,
   "id": "b5543f73",
   "metadata": {},
   "outputs": [
    {
     "name": "stdout",
     "output_type": "stream",
     "text": [
      "Enter string here:priya\n",
      "priya\n"
     ]
    }
   ],
   "source": [
    "# 2] Write a program to input a string from the user evaluate using Try and Except.\n",
    "\n",
    "try:\n",
    "    a=str(input(\"Enter string here:\"))\n",
    "    print(a)\n",
    "except:\n",
    "    print(\"Enter Valid String\")"
   ]
  },
  {
   "cell_type": "code",
   "execution_count": 84,
   "id": "561cbd45",
   "metadata": {},
   "outputs": [
    {
     "name": "stdout",
     "output_type": "stream",
     "text": [
      "Enter A:89\n",
      "Enter B:57\n",
      "Both numbers are integers: 89 57\n",
      "A+B: 146\n"
     ]
    }
   ],
   "source": [
    "# 3] Write a program to input two number from the user and check its an integer or not using Try and Except, \n",
    "#   if number are integer then the print sum of that number using finally block.\n",
    "\n",
    "try:\n",
    "    a=int(input(\"Enter A:\"))\n",
    "    b=int(input(\"Enter B:\"))\n",
    "    print(\"Both numbers are integers:\",a,b)\n",
    "except: \n",
    "    print(\"You Enter Wrong Input!\")\n",
    "finally:\n",
    "    print(\"A+B:\",a+b)\n",
    "  "
   ]
  },
  {
   "cell_type": "code",
   "execution_count": 90,
   "id": "178b7f2b",
   "metadata": {},
   "outputs": [
    {
     "name": "stdout",
     "output_type": "stream",
     "text": [
      "Enter A:45\n",
      "Enter B:65\n",
      "A & B are: 45 65\n",
      "Great!\n"
     ]
    }
   ],
   "source": [
    "# 4] Write a program to input two number from the user and handle your exception using else.\n",
    "\n",
    "\n",
    "try:\n",
    "    a=int(input(\"Enter A:\"))\n",
    "    b=int(input(\"Enter B:\"))\n",
    "    print(\"A & B are:\",a,b)\n",
    "except: \n",
    "    print(\"You Enter Wrong Input!\")\n",
    "else:\n",
    "    print(\"Great!\")"
   ]
  },
  {
   "cell_type": "code",
   "execution_count": 106,
   "id": "e77076d6",
   "metadata": {},
   "outputs": [
    {
     "name": "stdout",
     "output_type": "stream",
     "text": [
      "You enter somthing else datatype\n"
     ]
    }
   ],
   "source": [
    "# 5] Write a program to print multiple except block.\n",
    "\n",
    "try:\n",
    "    a=python\n",
    "    print(\"This is integer!\")\n",
    "except NameError:\n",
    "    print(\"You enter somthing else datatype\")\n",
    "except:\n",
    "    print(\"Try Again with proper input\")\n"
   ]
  }
 ],
 "metadata": {
  "kernelspec": {
   "display_name": "Python 3 (ipykernel)",
   "language": "python",
   "name": "python3"
  },
  "language_info": {
   "codemirror_mode": {
    "name": "ipython",
    "version": 3
   },
   "file_extension": ".py",
   "mimetype": "text/x-python",
   "name": "python",
   "nbconvert_exporter": "python",
   "pygments_lexer": "ipython3",
   "version": "3.9.7"
  }
 },
 "nbformat": 4,
 "nbformat_minor": 5
}
