{
 "cells": [
  {
   "cell_type": "code",
   "execution_count": 5,
   "id": "9e640d82",
   "metadata": {},
   "outputs": [
    {
     "name": "stdout",
     "output_type": "stream",
     "text": [
      "Hello Priya\n",
      "Hello Python\n"
     ]
    }
   ],
   "source": [
    "# 1] Introduction To Python\n",
    "\n",
    "\n",
    "#Basics\n",
    "print('Hello Priya')\n",
    "print(\"Hello Python\")"
   ]
  },
  {
   "cell_type": "code",
   "execution_count": 23,
   "id": "d7e4a767",
   "metadata": {},
   "outputs": [
    {
     "name": "stdout",
     "output_type": "stream",
     "text": [
      "<class 'int'>\n",
      "<class 'str'>\n",
      "<class 'float'>\n",
      "<class 'complex'>\n",
      "<class 'bool'>\n",
      "<class 'bool'>\n",
      "<class 'set'>\n",
      "<class 'dict'>\n",
      "<class 'list'>\n",
      "<class 'str'>\n",
      "<class 'tuple'>\n"
     ]
    }
   ],
   "source": [
    "#DataTypes\n",
    "\n",
    "a=10\n",
    "print(type(a))\n",
    "\n",
    "b='Priya'\n",
    "print(type(b))\n",
    "\n",
    "c=2.3\n",
    "print(type(c))\n",
    "\n",
    "d=2+4j\n",
    "print(type(d))\n",
    "\n",
    "e=True\n",
    "print(type(e))\n",
    "\n",
    "f=False\n",
    "print(type(f))\n",
    "\n",
    "g={'a','b','c'}\n",
    "print(type(g))\n",
    "\n",
    "h={\"Key\":\"Value\"}\n",
    "print(type(h))\n",
    "\n",
    "l1=[1,2,3,4]\n",
    "print(type(l1))\n",
    "\n",
    "i='Python Program'\n",
    "print(type(i))\n",
    "\n",
    "j=(9,8,7,6,5)\n",
    "print(type(j))"
   ]
  },
  {
   "cell_type": "code",
   "execution_count": 12,
   "id": "6bd62a9c",
   "metadata": {},
   "outputs": [
    {
     "name": "stdout",
     "output_type": "stream",
     "text": [
      "Enter the value of A:5\n",
      "A: 5\n"
     ]
    }
   ],
   "source": [
    "# use input()\n",
    "\n",
    "a=input(\"Enter the value of A:\")\n",
    "print(\"A:\",a)"
   ]
  },
  {
   "cell_type": "code",
   "execution_count": 14,
   "id": "543345c1",
   "metadata": {},
   "outputs": [
    {
     "name": "stdout",
     "output_type": "stream",
     "text": [
      "\n",
      "Here is a list of the Python keywords.  Enter any keyword to get more help.\n",
      "\n",
      "False               break               for                 not\n",
      "None                class               from                or\n",
      "True                continue            global              pass\n",
      "__peg_parser__      def                 if                  raise\n",
      "and                 del                 import              return\n",
      "as                  elif                in                  try\n",
      "assert              else                is                  while\n",
      "async               except              lambda              with\n",
      "await               finally             nonlocal            yield\n",
      "\n"
     ]
    }
   ],
   "source": [
    "## CANNOT ASSIGN KEYWORDS AS A NAME OF VARIABLES OR CLASS NAME ##\n",
    "\n",
    "help(\"keywords\")"
   ]
  },
  {
   "cell_type": "code",
   "execution_count": 28,
   "id": "652724b5",
   "metadata": {},
   "outputs": [
    {
     "name": "stdout",
     "output_type": "stream",
     "text": [
      "Enter the value of A:5\n",
      "A: 5\n",
      "<class 'int'>\n"
     ]
    }
   ],
   "source": [
    "# TYPE CONVERSION / TYPE CASTING:\n",
    "#(converting one data type to another type )\n",
    "##  ->we can use any data type in string.\n",
    "\n",
    "a=int(input(\"Enter the value of A:\"))\n",
    "print(\"A:\",a)\n",
    "print(type(a))\n"
   ]
  },
  {
   "cell_type": "code",
   "execution_count": 33,
   "id": "4ac45003",
   "metadata": {},
   "outputs": [
    {
     "name": "stdout",
     "output_type": "stream",
     "text": [
      "Addition is: 9\n",
      "Subtraction is: 1\n",
      "Multiplication is: 20\n"
     ]
    }
   ],
   "source": [
    "#ARTHMETIC OPERATOR\n",
    "\n",
    "# Addition operator\n",
    "x=5\n",
    "y=4\n",
    "z=x+y\n",
    "print(\"Addition is:\",z)\n",
    "z=x-y\n",
    "print(\"Subtraction is:\",z)\n",
    "z=x*y\n",
    "print(\"Multiplication is:\",z)"
   ]
  },
  {
   "cell_type": "code",
   "execution_count": 37,
   "id": "adbed426",
   "metadata": {},
   "outputs": [
    {
     "name": "stdout",
     "output_type": "stream",
     "text": [
      "x: 10\n",
      "x: 4\n"
     ]
    }
   ],
   "source": [
    "# Addition and Equal to operator\n",
    "\n",
    "x=5\n",
    "x+=5\n",
    "print(\"x:\",x)\n",
    "\n",
    "x=6\n",
    "x-=2\n",
    "print(\"x:\",x)"
   ]
  },
  {
   "cell_type": "code",
   "execution_count": 43,
   "id": "6f8b7b57",
   "metadata": {},
   "outputs": [
    {
     "name": "stdout",
     "output_type": "stream",
     "text": [
      "False\n",
      "True\n",
      "True\n",
      "False\n"
     ]
    }
   ],
   "source": [
    "#COMPARISON OPERATOR\n",
    "\n",
    "x=5\n",
    "y=3\n",
    "print(x==y)\n",
    "\n",
    "x=5\n",
    "y=2\n",
    "print(x!=y)\n",
    "\n",
    "x=7\n",
    "y=8\n",
    "print(x<y)\n",
    "\n",
    "x=10\n",
    "y=6\n",
    "print(x<y)"
   ]
  },
  {
   "cell_type": "code",
   "execution_count": 47,
   "id": "69d6b627",
   "metadata": {},
   "outputs": [
    {
     "name": "stdout",
     "output_type": "stream",
     "text": [
      "False\n",
      "True\n"
     ]
    }
   ],
   "source": [
    "#LOGICAL OPERATOR\n",
    "\n",
    "x=5\n",
    "print(x>3 and x<5)\n",
    "\n",
    "x=6\n",
    "print(x>2 or x<4)"
   ]
  },
  {
   "cell_type": "code",
   "execution_count": 50,
   "id": "99d59e4d",
   "metadata": {},
   "outputs": [
    {
     "name": "stdout",
     "output_type": "stream",
     "text": [
      "False\n",
      "True\n"
     ]
    }
   ],
   "source": [
    "#IDENTITY OPERATOR\n",
    "\n",
    "x=['Apple','Banana']\n",
    "y=['Apple','Banana']\n",
    "z=x\n",
    "\n",
    "print(x is y)  # the object is not matching that's why it give as false\n",
    "\n",
    "print(x is z)"
   ]
  },
  {
   "cell_type": "code",
   "execution_count": 53,
   "id": "9ef6b1db",
   "metadata": {},
   "outputs": [
    {
     "name": "stdout",
     "output_type": "stream",
     "text": [
      "False\n",
      "True\n"
     ]
    }
   ],
   "source": [
    "# MEMBERSHIP OPERATOR\n",
    "\n",
    "x=['Apple','Banana']\n",
    "print(\"Mango\" in x)\n",
    "print(\"Grapes\" not in x)"
   ]
  },
  {
   "cell_type": "code",
   "execution_count": 57,
   "id": "4d6e9b75",
   "metadata": {},
   "outputs": [
    {
     "name": "stdout",
     "output_type": "stream",
     "text": [
      "value: 90.0\n",
      "value: 90.0\n",
      "value: 50.0\n"
     ]
    }
   ],
   "source": [
    "#OPERATOR PRECEDENCE\n",
    "\n",
    "a=20\n",
    "b=10\n",
    "c=15\n",
    "d=5\n",
    "\n",
    "x=(a+b)*c/d\n",
    "print(\"value:\",x)\n",
    "\n",
    "y=((a+b)*c)/d\n",
    "print(\"value:\",y)\n",
    "\n",
    "z=a+(b*c)/d\n",
    "print(\"value:\",z)"
   ]
  },
  {
   "cell_type": "code",
   "execution_count": 14,
   "id": "45077e60",
   "metadata": {},
   "outputs": [
    {
     "name": "stdout",
     "output_type": "stream",
     "text": [
      "1] Hello Python\n",
      "2] 4\n"
     ]
    }
   ],
   "source": [
    "# ASSIGNMENT NO. 1\n",
    "\n",
    "# 1] Write a program to print a string \"Hello Python\".\n",
    "\n",
    "print(\"1] Hello Python\")\n",
    "\n",
    "# 2] Write a program to store one value in variable and print that variable.\n",
    "\n",
    "a=4\n",
    "print(\"2]\",a)"
   ]
  },
  {
   "cell_type": "code",
   "execution_count": 13,
   "id": "f20a1a2d",
   "metadata": {},
   "outputs": [
    {
     "name": "stdout",
     "output_type": "stream",
     "text": [
      "Enter the value:5\n",
      "Value is: 5\n"
     ]
    }
   ],
   "source": [
    "# 3] Write a program to take value from user input and print that value.\n",
    "\n",
    "x=int(input(\"Enter the value:\"))\n",
    "print(\"Value is:\",x)\n"
   ]
  },
  {
   "cell_type": "code",
   "execution_count": 11,
   "id": "093a937b",
   "metadata": {},
   "outputs": [
    {
     "name": "stdout",
     "output_type": "stream",
     "text": [
      "Sum is: 6\n"
     ]
    }
   ],
   "source": [
    "# 4] Write a program to do a sum of two value.\n",
    "\n",
    "a=4\n",
    "b=2\n",
    "c=a+b\n",
    "print(\"Sum is:\",c)"
   ]
  },
  {
   "cell_type": "code",
   "execution_count": 12,
   "id": "e05786ee",
   "metadata": {},
   "outputs": [
    {
     "name": "stdout",
     "output_type": "stream",
     "text": [
      "Division is: 4.0\n"
     ]
    }
   ],
   "source": [
    "# 5] Write a program to perform division using variables.\n",
    "\n",
    "a=8\n",
    "b=2\n",
    "c=a/b\n",
    "print(\"Division is:\",c)"
   ]
  },
  {
   "cell_type": "code",
   "execution_count": 20,
   "id": "14108caf",
   "metadata": {},
   "outputs": [
    {
     "name": "stdout",
     "output_type": "stream",
     "text": [
      "a: 3\n",
      "b: 2\n",
      "c: 6\n"
     ]
    }
   ],
   "source": [
    "# 6] Write a program to print multiple value of variables.\n",
    "\n",
    "a=3\n",
    "b=2\n",
    "c=6\n",
    "print(\"a:\",a)\n",
    "print(\"b:\",b)\n",
    "print(\"c:\",c)"
   ]
  },
  {
   "cell_type": "code",
   "execution_count": 24,
   "id": "20babced",
   "metadata": {},
   "outputs": [
    {
     "name": "stdout",
     "output_type": "stream",
     "text": [
      "<class 'int'>\n",
      "<class 'str'>\n"
     ]
    }
   ],
   "source": [
    "# 7] Write a program to find a type of variable.\n",
    "\n",
    "a=5\n",
    "print(type(a))\n",
    "\n",
    "b='priya'\n",
    "print(type(b))"
   ]
  },
  {
   "cell_type": "code",
   "execution_count": 27,
   "id": "0f304a64",
   "metadata": {},
   "outputs": [
    {
     "name": "stdout",
     "output_type": "stream",
     "text": [
      "Enter the value of a:5\n",
      "Enter the value of b:6\n",
      "False\n"
     ]
    }
   ],
   "source": [
    "# 8] Write a program to take two integer value from the user and check both the values are same.\n",
    "\n",
    "a=int(input(\"Enter the value of a:\"))\n",
    "b=int(input(\"Enter the value of b:\"))\n",
    "print(a==b)"
   ]
  }
 ],
 "metadata": {
  "kernelspec": {
   "display_name": "Python 3 (ipykernel)",
   "language": "python",
   "name": "python3"
  },
  "language_info": {
   "codemirror_mode": {
    "name": "ipython",
    "version": 3
   },
   "file_extension": ".py",
   "mimetype": "text/x-python",
   "name": "python",
   "nbconvert_exporter": "python",
   "pygments_lexer": "ipython3",
   "version": "3.9.7"
  }
 },
 "nbformat": 4,
 "nbformat_minor": 5
}
